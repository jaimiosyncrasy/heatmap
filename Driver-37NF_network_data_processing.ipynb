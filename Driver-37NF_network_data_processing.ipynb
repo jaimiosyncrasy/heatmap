{
 "cells": [
  {
   "cell_type": "code",
   "execution_count": 1,
   "metadata": {},
   "outputs": [],
   "source": [
    "import importlib\n",
    "import numpy as np\n",
    "import math as m\n",
    "import statistics as st\n",
    "import cmath\n",
    "import matplotlib.pyplot as plt \n",
    "import itertools\n",
    "import random\n",
    "from operator import add\n",
    "from graphviz import Source, render\n",
    "import pydot\n",
    "\n",
    "import datetime\n",
    "import time\n",
    "\n",
    "import sys\n",
    "sys.path.append('py_modules') # below modules are in this folder\n",
    "#print(sys.path)\n",
    "import setup_nx # your own module, setup.nx.py\n",
    "importlib.reload(setup_nx)\n",
    "import my_feeder_funcs as ff\n",
    "import my_impedance_funcs as imp\n",
    "import my_configVis_funcs as vis\n",
    "import my_detControlMatExistence_funcs as ctrl\n",
    "import my_detLznRange_funcs as lzn\n",
    "import my_heatmapSetup_funcs as hm"
   ]
  },
  {
   "cell_type": "code",
   "execution_count": 2,
   "metadata": {},
   "outputs": [
    {
     "name": "stdout",
     "output_type": "stream",
     "text": [
      "2022-05-26 15:20:12.135698\n"
     ]
    }
   ],
   "source": [
    "# [Essential] specify input feeder data for IEEE 123-node test feeder\n",
    "\n",
    "# Enter the path/name of the impedance model data (excel file)\n",
    "filepath = \"feeder_impedance_models/\"\n",
    "#modelpath = filepath + \"003_GB_IEEE37.xlsx\" # accurate wrt public 123NF data\n",
    "modelpath = filepath + \"003_GB_IEEE37_zeroCrossZ.xlsx\" # accurate wrt public 123NF data\n",
    "\n",
    "#file_name = string specifying name of dot file created when make_graph() is called\n",
    "file_name = '37NF'\n",
    "#file_name = 'demo123NF.dot'\n",
    "\n",
    "# Specify substation kV, kVA bases, name, and the number of timesteps in the load data'\n",
    "Vbase_ll = 4800\n",
    "Vbase = Vbase_ll / np.sqrt(3)\n",
    "Sbase = 5000/3\n",
    "substation_name = 'bus_799'\n",
    "timesteps = 1\n",
    "\n",
    "# initialize some variables\n",
    "ts = time.time()\n",
    "print(datetime.datetime.fromtimestamp(ts))\n",
    "plot = 0 #turn plot on/off\n",
    "depths = {}\n",
    "leaves = []"
   ]
  },
  {
   "cell_type": "code",
   "execution_count": 3,
   "metadata": {
    "scrolled": true
   },
   "outputs": [
    {
     "name": "stdout",
     "output_type": "stream",
     "text": [
      "Finished initializing feeder\n",
      "[('bus_701', 0), ('bus_702', 1), ('bus_703', 2), ('bus_704', 3), ('bus_705', 4), ('bus_706', 5), ('bus_707', 6), ('bus_708', 7), ('bus_709', 8), ('bus_710', 9)]\n",
      "graph_noSub= ['bus_702' 'bus_703' 'bus_704' 'bus_705' 'bus_706' 'bus_707' 'bus_708'\n",
      " 'bus_709' 'bus_710' 'bus_711' 'bus_712' 'bus_713' 'bus_714' 'bus_718'\n",
      " 'bus_720' 'bus_722' 'bus_724' 'bus_725' 'bus_727' 'bus_728' 'bus_729'\n",
      " 'bus_730' 'bus_731' 'bus_732' 'bus_733' 'bus_734' 'bus_735' 'bus_736'\n",
      " 'bus_737' 'bus_738' 'bus_740' 'bus_741' 'bus_742' 'bus_744' 'bus_775']\n",
      "n= 35\n"
     ]
    }
   ],
   "source": [
    "# [ESSENTIAL] create feeder object\n",
    "\n",
    "#fin_feeder = ff.feeder_init(modelpath,loadfolder,loadpath,timesteps,Vbase_ll,Sbase,depths,leaves)\n",
    "fin_feeder = ff.feeder_init(modelpath,'','',timesteps,Vbase_ll,Sbase,depths,leaves)\n",
    "\n",
    "print(\"Finished initializing feeder\")\n",
    "ff.make_graph(fin_feeder, file_name)\n",
    "node_index_map = hm.createNodeIndexMap(fin_feeder) #node indices for indicMat and F matrix\n",
    "print(list(node_index_map.items())[:10]) # print first 10 elements of node_index_map\n",
    "\n",
    "R,X=hm.createRXmatrices_3ph(fin_feeder, node_index_map,depths,file_name)\n",
    "n=round(len(R)/3)\n",
    "print('n=',n)\n",
    "\n",
    "# #print('depths=',depths) # check this is populated, lists how far each node is from substation\n",
    "# #print('depths length=',len(depths))\n",
    "\n"
   ]
  },
  {
   "cell_type": "code",
   "execution_count": null,
   "metadata": {},
   "outputs": [],
   "source": [
    "print(node_index_map)"
   ]
  },
  {
   "cell_type": "code",
   "execution_count": 4,
   "metadata": {},
   "outputs": [],
   "source": [
    "# Save R and X matrices to csv to import into matlab\n",
    "# np.savetxt reference: https://thispointer.com/how-to-save-numpy-array-to-a-csv-file-using-numpy-savetxt-in-python/\n",
    "np.savetxt('Rmat_37NF_mod.csv', R, delimiter=',')\n",
    "np.savetxt('Xmat_37NF_mod.csv', X, delimiter=',')"
   ]
  },
  {
   "cell_type": "code",
   "execution_count": 6,
   "metadata": {},
   "outputs": [],
   "source": [
    "# write busnames into a csv\n",
    "import csv\n",
    "graphNodes_noSub=hm.remove_subst_nodes(fin_feeder, file_name) # remove substation nodes, busList will have as many entries as R and X matrix length\n",
    "assert(len(graphNodes_noSub)*3==len(R)) # *3 is because R is 3ph\n",
    "with open(\"37NF_busList.csv\", 'w', newline='') as csvfile:\n",
    "    spamwriter = csv.writer(csvfile, delimiter='-',\n",
    "                            quotechar='|', quoting=csv.QUOTE_MINIMAL)\n",
    "    spamwriter.writerows(graphNodes_noSub)"
   ]
  },
  {
   "cell_type": "code",
   "execution_count": null,
   "metadata": {},
   "outputs": [],
   "source": []
  }
 ],
 "metadata": {
  "kernelspec": {
   "display_name": "Python 3",
   "language": "python",
   "name": "python3"
  },
  "language_info": {
   "codemirror_mode": {
    "name": "ipython",
    "version": 3
   },
   "file_extension": ".py",
   "mimetype": "text/x-python",
   "name": "python",
   "nbconvert_exporter": "python",
   "pygments_lexer": "ipython3",
   "version": "3.7.6"
  }
 },
 "nbformat": 4,
 "nbformat_minor": 4
}
