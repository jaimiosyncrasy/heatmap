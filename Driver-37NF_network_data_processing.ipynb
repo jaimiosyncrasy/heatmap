{
 "cells": [
  {
   "cell_type": "code",
   "execution_count": 1,
   "metadata": {},
   "outputs": [],
   "source": [
    "import importlib\n",
    "import numpy as np\n",
    "import math as m\n",
    "import statistics as st\n",
    "import cmath\n",
    "import matplotlib.pyplot as plt \n",
    "import itertools\n",
    "import random\n",
    "from operator import add\n",
    "from graphviz import Source, render\n",
    "import pydot\n",
    "\n",
    "import datetime\n",
    "import time\n",
    "\n",
    "import sys\n",
    "sys.path.append('py_modules') # below modules are in this folder\n",
    "#print(sys.path)\n",
    "import setup_nx # your own module, setup.nx.py\n",
    "importlib.reload(setup_nx)\n",
    "import my_feeder_funcs as ff\n",
    "import my_impedance_funcs as imp\n",
    "import my_configVis_funcs as vis\n",
    "import my_detControlMatExistence_funcs as ctrl\n",
    "import my_detLznRange_funcs as lzn\n",
    "import my_heatmapSetup_funcs as hm"
   ]
  },
  {
   "cell_type": "code",
   "execution_count": 2,
   "metadata": {},
   "outputs": [
    {
     "name": "stdout",
     "output_type": "stream",
     "text": [
      "2022-06-03 15:08:44.494702\n"
     ]
    }
   ],
   "source": [
    "# [Essential] specify input feeder data for IEEE 123-node test feeder\n",
    "\n",
    "# Enter the path/name of the impedance model data (excel file)\n",
    "filepath = \"feeder_impedance_models/\"\n",
    "modelpath = filepath + \"003_GB_IEEE37.xlsx\" # accurate wrt public 123NF data\n",
    "#modelpath = filepath + \"003_GB_IEEE37_zeroCrossZ.xlsx\" # accurate wrt public 123NF data\n",
    "\n",
    "#file_name = string specifying name of dot file created when make_graph() is called\n",
    "file_name = '37NF'\n",
    "#file_name = 'demo123NF.dot'\n",
    "\n",
    "# Specify substation kV, kVA bases, name, and the number of timesteps in the load data'\n",
    "Vbase_ll = 4800\n",
    "Vbase = Vbase_ll / np.sqrt(3)\n",
    "Sbase = 5000/3\n",
    "substation_name = 'bus_799'\n",
    "timesteps = 1\n",
    "\n",
    "# initialize some variables\n",
    "ts = time.time()\n",
    "print(datetime.datetime.fromtimestamp(ts))\n",
    "plot = 0 #turn plot on/off\n",
    "depths = {}\n",
    "leaves = []"
   ]
  },
  {
   "cell_type": "code",
   "execution_count": 3,
   "metadata": {
    "scrolled": true
   },
   "outputs": [
    {
     "name": "stdout",
     "output_type": "stream",
     "text": [
      "Finished initializing feeder\n",
      "[('bus_701', 0), ('bus_702', 1), ('bus_703', 2), ('bus_704', 3), ('bus_705', 4), ('bus_706', 5), ('bus_707', 6), ('bus_708', 7), ('bus_709', 8), ('bus_710', 9)]\n",
      "n= 35\n",
      "n= 35\n"
     ]
    }
   ],
   "source": [
    "# [ESSENTIAL] create feeder object\n",
    "\n",
    "#fin_feeder = ff.feeder_init(modelpath,loadfolder,loadpath,timesteps,Vbase_ll,Sbase,depths,leaves)\n",
    "fin_feeder = ff.feeder_init(modelpath,'','',timesteps,Vbase_ll,Sbase,depths,leaves)\n",
    "\n",
    "print(\"Finished initializing feeder\")\n",
    "ff.make_graph(fin_feeder, file_name)\n",
    "node_index_map = hm.createNodeIndexMap(fin_feeder) #node indices for indicMat and F matrix\n",
    "print(list(node_index_map.items())[:10]) # print first 10 elements of node_index_map\n",
    "\n",
    "R,X=hm.createRXmatrices_3ph(fin_feeder, depths,file_name)\n",
    "n=round(len(R)/3)\n",
    "print('n=',n)\n",
    "\n",
    "# #print('depths=',depths) # check this is populated, lists how far each node is from substation\n",
    "# #print('depths length=',len(depths))\n",
    "\n"
   ]
  },
  {
   "cell_type": "code",
   "execution_count": null,
   "metadata": {},
   "outputs": [],
   "source": [
    "print(node_index_map)"
   ]
  },
  {
   "cell_type": "code",
   "execution_count": null,
   "metadata": {},
   "outputs": [],
   "source": [
    "# Save R and X matrices to csv to import into matlab\n",
    "# np.savetxt reference: https://thispointer.com/how-to-save-numpy-array-to-a-csv-file-using-numpy-savetxt-in-python/\n",
    "np.savetxt('Rmat_37NF_mod.csv', R, delimiter=',')\n",
    "np.savetxt('Xmat_37NF_mod.csv', X, delimiter=',')"
   ]
  },
  {
   "cell_type": "code",
   "execution_count": null,
   "metadata": {},
   "outputs": [],
   "source": [
    "# write busnames into a csv\n",
    "import csv\n",
    "graphNodes_noSub=hm.remove_subst_nodes(fin_feeder, file_name) # remove substation nodes, busList will have as many entries as R and X matrix length\n",
    "assert(len(graphNodes_noSub)*3==len(R)) # *3 is because R is 3ph\n",
    "with open(\"37NF_busList.csv\", 'w', newline='') as csvfile:\n",
    "    spamwriter = csv.writer(csvfile, delimiter='-',\n",
    "                            quotechar='|', quoting=csv.QUOTE_MINIMAL)\n",
    "    spamwriter.writerows(graphNodes_noSub)"
   ]
  },
  {
   "cell_type": "code",
   "execution_count": 4,
   "metadata": {},
   "outputs": [
    {
     "name": "stdout",
     "output_type": "stream",
     "text": [
      "zzelf= [[(0.09+0.05j), (0.08+0.05j), (0.09+0.05j)]]\n",
      "abs_z= [[0.1029563  0.09433981 0.1029563 ]]\n",
      "zzelf= [[(0.21+0.13j), (0.19+0.12j), (0.21+0.13j)]]\n",
      "abs_z= [[0.24698178 0.22472205 0.24698178]]\n",
      "zzelf= [[(0.3+0.17j), (0.3+0.15j), (0.3+0.17j)]]\n",
      "abs_z= [[0.34481879 0.3354102  0.34481879]]\n",
      "zzelf= [[(0.25+0.11j), (0.24+0.1j), (0.25+0.11j)]]\n",
      "abs_z= [[0.27313001 0.26       0.27313001]]\n",
      "zzelf= [[(0.64+0.34j), (0.64+0.32j), (0.64+0.34j)]]\n",
      "abs_z= [[0.72470684 0.71554175 0.72470684]]\n",
      "zzelf= [[(0.86+0.4j), (0.86+0.38j), (0.86+0.4j)]]\n",
      "abs_z= [[0.94847246 0.94021274 0.94847246]]\n",
      "zzelf= [[(0.48+0.27j), (0.47+0.25j), (0.48+0.27j)]]\n",
      "abs_z= [[0.55072679 0.53235327 0.55072679]]\n",
      "zzelf= [[(0.4+0.23j), (0.39+0.21j), (0.4+0.23j)]]\n",
      "abs_z= [[0.46141088 0.44294469 0.46141088]]\n",
      "zzelf= [[(0.9+0.46j), (0.89+0.43j), (0.9+0.46j)]]\n",
      "abs_z= [[1.0107423 0.9884331 1.0107423]]\n",
      "zzelf= [[(1.05+0.57j), (1.04+0.53j), (1.05+0.57j)]]\n",
      "abs_z= [[1.19473847 1.16726175 1.19473847]]\n",
      "zzelf= [[(0.34+0.15j), (0.34+0.14j), (0.34+0.15j)]]\n",
      "abs_z= [[0.37161808 0.36769553 0.37161808]]\n",
      "zzelf= [[(0.17+0.1j), (0.17+0.09j), (0.17+0.1j)]]\n",
      "abs_z= [[0.19723083 0.19235384 0.19723083]]\n",
      "zzelf= [[(0.33+0.18j), (0.33+0.17j), (0.33+0.18j)]]\n",
      "abs_z= [[0.37589892 0.37121422 0.37589892]]\n",
      "zzelf= [[(0.54+0.25j), (0.54+0.24j), (0.54+0.25j)]]\n",
      "abs_z= [[0.59506302 0.59093147 0.59506302]]\n",
      "zzelf= [[(0.5+0.27j), (0.5+0.25j), (0.5+0.27j)]]\n",
      "abs_z= [[0.56824291 0.55901699 0.56824291]]\n",
      "zzelf= [[(0.91+0.42j), (0.91+0.4j), (0.91+0.42j)]]\n",
      "abs_z= [[1.00224747 0.99403219 1.00224747]]\n",
      "zzelf= [[(1.16+0.51j), (1.17+0.49j), (1.16+0.51j)]]\n",
      "abs_z= [[1.26716218 1.26846364 1.26716218]]\n",
      "zzelf= [[(0.76+0.39j), (0.76+0.36j), (0.76+0.39j)]]\n",
      "abs_z= [[0.85422479 0.84095184 0.85422479]]\n",
      "zzelf= [[(0.3+0.16j), (0.29+0.15j), (0.3+0.16j)]]\n",
      "abs_z= [[0.34       0.32649655 0.34      ]]\n",
      "zzelf= [[(0.45+0.23j), (0.44+0.21j), (0.45+0.23j)]]\n",
      "abs_z= [[0.50537115 0.48754487 0.50537115]]\n",
      "zzelf= [[(0.48+0.24j), (0.47+0.22j), (0.48+0.24j)]]\n",
      "abs_z= [[0.53665631 0.51894123 0.53665631]]\n",
      "zzelf= [[(0.35+0.2j), (0.34+0.19j), (0.35+0.2j)]]\n",
      "abs_z= [[0.40311289 0.38948684 0.40311289]]\n",
      "zzelf= [[(0.55+0.31j), (0.54+0.28j), (0.55+0.31j)]]\n",
      "abs_z= [[0.63134776 0.60827625 0.63134776]]\n",
      "zzelf= [[(0.61+0.32j), (0.6+0.29j), (0.61+0.32j)]]\n",
      "abs_z= [[0.6888396  0.66640828 0.6888396 ]]\n",
      "zzelf= [[(0.56+0.31j), (0.55+0.29j), (0.56+0.31j)]]\n",
      "abs_z= [[0.64007812 0.62177166 0.64007812]]\n",
      "zzelf= [[(0.7+0.38j), (0.69+0.36j), (0.7+0.38j)]]\n",
      "abs_z= [[0.79649231 0.77826731 0.79649231]]\n",
      "zzelf= [[(0.98+0.49j), (0.97+0.46j), (0.98+0.49j)]]\n",
      "abs_z= [[1.09567331 1.07354553 1.09567331]]\n",
      "zzelf= [[(1.41+0.65j), (1.41+0.61j), (1.41+0.65j)]]\n",
      "abs_z= [[1.5526107  1.53629424 1.5526107 ]]\n",
      "zzelf= [[(0.85+0.46j), (0.84+0.43j), (0.85+0.46j)]]\n",
      "abs_z= [[0.96648849 0.94366308 0.96648849]]\n",
      "zzelf= [[(0.95+0.51j), (0.94+0.48j), (0.95+0.51j)]]\n",
      "abs_z= [[1.07823931 1.05546198 1.07823931]]\n",
      "zzelf= [[(1.13+0.6j), (1.12+0.56j), (1.13+0.6j)]]\n",
      "abs_z= [[1.27941393 1.25219807 1.27941393]]\n",
      "zzelf= [[(1.15+0.62j), (1.14+0.58j), (1.15+0.62j)]]\n",
      "abs_z= [[1.30648383 1.27906216 1.30648383]]\n",
      "zzelf= [[(0.37+0.16j), (0.37+0.15j), (0.37+0.16j)]]\n",
      "abs_z= [[0.40311289 0.3992493  0.40311289]]\n",
      "zzelf= [[(0.37+0.2j), (0.36+0.18j), (0.37+0.2j)]]\n",
      "abs_z= [[0.42059482 0.40249224 0.42059482]]\n",
      "zzelf= [[(0.4+0.23j), (0.39+0.21j), (0.4+0.23j)]]\n",
      "abs_z= [[0.46141088 0.44294469 0.46141088]]\n",
      "[[0.1029563  0.09433981 0.1029563 ]\n",
      " [0.24698178 0.22472205 0.24698178]\n",
      " [0.34481879 0.3354102  0.34481879]\n",
      " [0.27313001 0.26       0.27313001]\n",
      " [0.72470684 0.71554175 0.72470684]\n",
      " [0.94847246 0.94021274 0.94847246]\n",
      " [0.55072679 0.53235327 0.55072679]\n",
      " [0.46141088 0.44294469 0.46141088]\n",
      " [1.0107423  0.9884331  1.0107423 ]\n",
      " [1.19473847 1.16726175 1.19473847]\n",
      " [0.37161808 0.36769553 0.37161808]\n",
      " [0.19723083 0.19235384 0.19723083]\n",
      " [0.37589892 0.37121422 0.37589892]\n",
      " [0.59506302 0.59093147 0.59506302]\n",
      " [0.56824291 0.55901699 0.56824291]\n",
      " [1.00224747 0.99403219 1.00224747]\n",
      " [1.26716218 1.26846364 1.26716218]\n",
      " [0.85422479 0.84095184 0.85422479]\n",
      " [0.34       0.32649655 0.34      ]\n",
      " [0.50537115 0.48754487 0.50537115]\n",
      " [0.53665631 0.51894123 0.53665631]\n",
      " [0.40311289 0.38948684 0.40311289]\n",
      " [0.63134776 0.60827625 0.63134776]\n",
      " [0.6888396  0.66640828 0.6888396 ]\n",
      " [0.64007812 0.62177166 0.64007812]\n",
      " [0.79649231 0.77826731 0.79649231]\n",
      " [1.09567331 1.07354553 1.09567331]\n",
      " [1.5526107  1.53629424 1.5526107 ]\n",
      " [0.96648849 0.94366308 0.96648849]\n",
      " [1.07823931 1.05546198 1.07823931]\n",
      " [1.27941393 1.25219807 1.27941393]\n",
      " [1.30648383 1.27906216 1.30648383]\n",
      " [0.40311289 0.3992493  0.40311289]\n",
      " [0.42059482 0.40249224 0.42059482]\n",
      " [0.46141088 0.44294469 0.46141088]]\n"
     ]
    }
   ],
   "source": [
    "# print z_to_sub for all buses to a csv\n",
    "graphNodes_nosub = hm.remove_subst_nodes(fin_feeder, file_name) # dont consider substation nodes, node 650 and 651 for 13NF\n",
    "\n",
    "myabsZs=np.array([], dtype=np.int64).reshape(0,3)\n",
    "\n",
    "for busName in graphNodes_nosub: # for all non-slack buses\n",
    "    z2sub=np.around(imp.get_total_impedance_from_substation(fin_feeder, busName,depths),2)\n",
    "    zself=[[z2sub[0][0], z2sub[1][1], z2sub[2][2]]]\n",
    "    print('zzelf=',zself)\n",
    "    abs_z=np.absolute(zself)\n",
    "    print('abs_z=',abs_z)\n",
    "    myabsZs=np.append(myabsZs,np.array(abs_z),axis=0) \n",
    "\n",
    "print(myabsZs)\n",
    "#print(np.array(myabsZs))\n",
    "np.savetxt('37NF_z2sub.csv', np.array(myabsZs), delimiter=',')"
   ]
  },
  {
   "cell_type": "code",
   "execution_count": null,
   "metadata": {},
   "outputs": [],
   "source": []
  }
 ],
 "metadata": {
  "kernelspec": {
   "display_name": "Python 3",
   "language": "python",
   "name": "python3"
  },
  "language_info": {
   "codemirror_mode": {
    "name": "ipython",
    "version": 3
   },
   "file_extension": ".py",
   "mimetype": "text/x-python",
   "name": "python",
   "nbconvert_exporter": "python",
   "pygments_lexer": "ipython3",
   "version": "3.7.6"
  }
 },
 "nbformat": 4,
 "nbformat_minor": 4
}
