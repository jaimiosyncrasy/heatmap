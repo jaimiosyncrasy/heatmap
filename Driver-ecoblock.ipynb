{
 "cells": [
  {
   "cell_type": "code",
   "execution_count": null,
   "metadata": {},
   "outputs": [],
   "source": [
    "# 9.9.21\n",
    "# First let's plot the ecoblock graph"
   ]
  },
  {
   "cell_type": "code",
   "execution_count": 1,
   "metadata": {},
   "outputs": [],
   "source": [
    "import importlib\n",
    "import numpy as np\n",
    "import math as m\n",
    "import statistics as st\n",
    "import cmath\n",
    "import matplotlib.pyplot as plt \n",
    "import itertools\n",
    "import random\n",
    "from operator import add\n",
    "from graphviz import Source, render\n",
    "import pydot\n",
    "import csv  # jaimie do you need this?\n",
    "\n",
    "import datetime\n",
    "import time\n",
    "\n",
    "import sys\n",
    "sys.path.append('py_modules') # below modules are in this folder\n",
    "#print(sys.path)\n",
    "import setup_nx # your own module, setup.nx.py\n",
    "importlib.reload(setup_nx)\n",
    "import my_feeder_funcs as ff\n",
    "import my_impedance_funcs as imp\n",
    "import my_configVis_funcs as vis\n",
    "import my_detControlMatExistence_funcs as ctrl\n",
    "import my_detLznRange_funcs as lzn\n",
    "import my_heatmapSetup_funcs as hm"
   ]
  },
  {
   "cell_type": "code",
   "execution_count": 2,
   "metadata": {},
   "outputs": [
    {
     "name": "stdout",
     "output_type": "stream",
     "text": [
      "2022-01-02 19:03:30.163408\n"
     ]
    }
   ],
   "source": [
    "# [Essential] specify input feeder data for IEEE 123-node test feeder\n",
    "\n",
    "# Enter the path/name of the impedance model data (excel file)\n",
    "filepath = \"feeder_impedance_models/\"\n",
    "#modelpath = filepath + \"ecoblock_impedexcel_trueZ2.xls\"\n",
    "modelpath = filepath + \"OaklandJ_impedexcel_short.xlsx\"\n",
    "\n",
    "# load data is not actually used in assessment, but the feeder object builds variables to hold load info\n",
    "loadfolder = filepath\n",
    "loadpath = filepath + 'ecoblock_NL_PVpen100_sigbuilder.csv'\n",
    "headerpath = filepath + 'ecoblock_time_header.csv'\n",
    "load_data = loadpath\n",
    "\n",
    "#file_name = string specifying name of dot file created when make_graph() is called\n",
    "file_name = 'oaklandJ'\n",
    "#file_name = 'ecoblock'\n",
    "\n",
    "# Specify substation kV, kVA bases, name, and the number of timesteps in the load data'\n",
    "Vbase_ll = 4160\n",
    "Vbase = Vbase_ll / np.sqrt(3)\n",
    "Sbase = 5000/3\n",
    "substation_name = 'bus_nSOURCE' # formatted as 'bus_XXX'\n",
    "timesteps = 1\n",
    "\n",
    "# initialize some variables\n",
    "ts = time.time()\n",
    "print(datetime.datetime.fromtimestamp(ts))\n",
    "plot = 0 #turn plot on/off\n",
    "depths = {}\n",
    "leaves = []"
   ]
  },
  {
   "cell_type": "code",
   "execution_count": 3,
   "metadata": {},
   "outputs": [
    {
     "name": "stdout",
     "output_type": "stream",
     "text": [
      "Finished initializing feeder\n",
      "depths length= 239\n",
      "bus_n100\n",
      "bus_n101\n",
      "bus_n102\n",
      "bus_n103\n",
      "bus_n104\n",
      "bus_n105\n",
      "bus_n106\n",
      "bus_n107\n",
      "bus_n108\n",
      "bus_n109\n",
      "node index map len= 239\n"
     ]
    }
   ],
   "source": [
    "# [ESSENTIAL] create feeder object and plot feeder with make_graph func\n",
    "\n",
    "fin_feeder = ff.feeder_init(modelpath,loadfolder,loadpath,timesteps,Vbase_ll,Sbase,depths,leaves)\n",
    "print(\"Finished initializing feeder\")\n",
    "ff.make_graph(fin_feeder, file_name)\n",
    "node_index_map = hm.createNodeIndexMap(fin_feeder) #node indices for indicMat and F matrix\n",
    "R,X=hm.createRXmatrices_3ph(fin_feeder, node_index_map,depths)\n",
    "\n",
    "#print('depths=',depths) # check this is populated, lists how far each node is from substation\n",
    "print('depths length=',len(depths))\n",
    "\n",
    "# print list of first 10 buses in network\n",
    "count = 0 \n",
    "for i in fin_feeder.network:    \n",
    "    print(i) \n",
    "    count += 1\n",
    "    if count >= 10:\n",
    "        break\n",
    "    \n",
    "graph = fin_feeder.network\n",
    "print('node index map len=',len(node_index_map))"
   ]
  },
  {
   "cell_type": "code",
   "execution_count": null,
   "metadata": {},
   "outputs": [],
   "source": [
    "# mark actuators on ecoblock graph\n",
    "lst_act_locs=['bus_4','bus_12','bus_3079','bus_3089','bus_3011','bus_3015','bus_3025','bus_3029','bus_3033','bus_3037','bus_3038','bus_3044','bus_3049','bus_3056','bus_3058','bus_3057','bus_3059','bus_3063','bus_3062','bus_3001','bus_3008']\n",
    "#[4 3079 3089 3011 3015 3025 3029 3033 3037 3038 3044 3049 3056 3058 3057 3059 3063 3062 3001 3008];\n",
    "vis.markActuatorConfig(lst_act_locs, fin_feeder, file_name)"
   ]
  },
  {
   "cell_type": "code",
   "execution_count": null,
   "metadata": {},
   "outputs": [],
   "source": [
    "# gather impedance info Xii for each actuator\n",
    "# read in sigbuilder csv. For each col (phase-act) up to half of all cols, remove take substring before / delimiter, append bus_, then add to cby_load\n",
    "\n",
    "opened_csv_file = open('feeder_impedance_models/OaklandJ_sigbuilder.csv', 'r')\n",
    "reader = csv.reader(opened_csv_file)\n",
    "\n",
    "loads_table = []\n",
    "for row in reader:\n",
    "        loads_table.append(row)\n",
    "#print(loads_table[0]) # header\n",
    "lst_act_locs=[]\n",
    "for phaseAct_name in loads_table[0]:\n",
    "    str1 = phaseAct_name.split(\"/\",1)[0] # LD_nXXX\n",
    "    str2=str1.replace('LD_', 'bus_') # bus_nXXX\n",
    "    lst_act_locs.append(str2) \n",
    "lst_act_locs.pop(0) # remove 'Time' from list\n",
    "print(lst_act_locs[0:5])\n",
    "\n",
    "# compute impedances to substation\n",
    "x_acts=[] # separate  r and x so easier to create complex number in matlab\n",
    "r_acts=[]\n",
    "for cby_load in lst_act_locs:\n",
    "    Zii=imp.get_total_impedance_from_substation(fin_feeder, cby_load, depths) # returns dict of 3x3 numpy array for Z_ii\n",
    "    print('zii=',Zii[0,0])\n",
    "    x_acts.append(np.imag(Zii[0,0]))\n",
    "    r_acts.append(np.real(Zii[0,0]))\n",
    "    #print('zii of ',cby_load,' = ',Zii)\n",
    "print(x_acts[0:5])\n",
    "\n",
    "# now write lst_act_locs to first row of csv, and Zii to second row of csv\n",
    "with open('oaklandJ_zToSub.csv', 'w', newline='') as csvfile:\n",
    "    writer = csv.writer(csvfile)\n",
    "    writer.writerow(loads_table[0]) # same header as sigbuilder\n",
    "    writer.writerow(r_acts)\n",
    "    writer.writerow(x_acts)"
   ]
  },
  {
   "cell_type": "code",
   "execution_count": null,
   "metadata": {},
   "outputs": [],
   "source": [
    "# set config using lst_act_locs, and call Gdisc kgain design func. The func does:\n",
    "# for 3ph system there are r phase-actuators, for example node6_phA; thus there are r nonzero F elements\n",
    "# for each of nonzero element of F, det Gdisc conditions; conditions give an upper bound on that F ele search space \n",
    "# compute vector of F_ub, dimension rx1\n",
    "# search space of [0 F_ub] in r-space and det evals of closed-loop system\n",
    "# Select combo with smallest spectral radius, and return kgains of dim rx1\n"
   ]
  },
  {
   "cell_type": "code",
   "execution_count": null,
   "metadata": {},
   "outputs": [],
   "source": [
    "# print kgains vector to csv, and in ephasorsim we read in csv to assign to Kp_vmag, Ki_vmag, etc.\n",
    "# kgains has dimension rx1, where is number of phase-actuators)"
   ]
  },
  {
   "cell_type": "code",
   "execution_count": null,
   "metadata": {},
   "outputs": [],
   "source": [
    "# ------------- do a basic eval_config ----------------------------\n",
    "parmObj=hm.configParms()\n",
    "# parmObj.set_ctrlTypes(['VVC', 'VVC', 'VWC', 'VWC', 'VWC', 'VVC', 'VVC', 'VVC'])\n",
    "# parmObj.set_version(2) # 1 for PBC\n",
    "\n",
    "parmObj.set_ctrlTypes(['PBC', 'PBC'])\n",
    "parmObj.set_version(1) # 1 for PBC\n",
    "\n",
    "#all_act_locs = ['bus_152', 'bus_21', 'bus_58', 'bus_70', 'bus_4', 'bus_82', 'bus_109', 'bus_47']\n",
    "all_act_locs = ['bus_n103','bus_n156']\n",
    "perf_nodes=['bus_n103','bus_n156']\n",
    "# print(len(all_act_locs))\n",
    "# print(len(foo))\n",
    "feas, maxError,numfeas,bestF,indicMat=hm.eval_config(parmObj,fin_feeder, all_act_locs,perf_nodes, node_index_map,substation_name,depths,file_name,Vbase_ll, Sbase, load_data, headerpath, modelpath)"
   ]
  },
  {
   "cell_type": "code",
   "execution_count": 4,
   "metadata": {},
   "outputs": [
    {
     "name": "stdout",
     "output_type": "stream",
     "text": [
      "found source in  bus_n239\n",
      "found source in  bus_nSOURCE\n",
      "num LV nodes= 75\n",
      "num leaf= 89\n",
      "skipping n239, attached to root node\n",
      "num cand cby= 88\n"
     ]
    }
   ],
   "source": [
    "# ---------- Create cby_cand -------------\n",
    "# it's the subset of OaklandJ nodes where can place actuator, i.e. MV edge nodes or one-up-from LV edge nodes\n",
    "mygraph=fin_feeder.network\n",
    "LVlist=[] # all nodes on low voltage side\n",
    "for node_raw in mygraph.nodes(): # all nodes\n",
    "    #print('noderaw=',node_raw)\n",
    "    if 'SOURCE' in node_raw or 'n239' in node_raw:\n",
    "        print('found source in ',node_raw)\n",
    "    else:\n",
    "        nodekey=int(node_raw.split(\"_n\",2)[1]) # get latter of split, and convert string to numeral\n",
    "        #print('nodekey=',nodekey)\n",
    "        if nodekey<=235 and nodekey>=161:\n",
    "            node_raw2='bus_n'+str(nodekey)\n",
    "            LVlist.append(node_raw2)\n",
    "print('num LV nodes=',len(LVlist))\n",
    "\n",
    "leafNodes=[x for x in mygraph.nodes() if mygraph.out_degree(x)==0 and mygraph.in_degree(x)==1]\n",
    "print('num leaf=',len(leafNodes))\n",
    "\n",
    "cby_cand=[]\n",
    "for bus in leafNodes:\n",
    "    if 'n239' in bus:\n",
    "        print('skipping n239, attached to root node')\n",
    "    elif bus in LVlist:\n",
    "        lst=list(mygraph.predecessors(bus)) # convert iterator to list, then index out of it\n",
    "        cby_cand.append(lst[0]) # add one node up, which is on MV side\n",
    "    else:\n",
    "         cby_cand.append(bus) # add the MV node\n",
    "            \n",
    "print('num cand cby=',len(cby_cand))\n",
    "#vis.markActuatorConfig(cby_cand, fin_feeder, file_name)"
   ]
  },
  {
   "cell_type": "code",
   "execution_count": null,
   "metadata": {},
   "outputs": [],
   "source": [
    "# Seed=3\n",
    "# ------ run place_max_colocated_acts, aka auto_overloadCPP process -------------\n",
    "t = time.time()\n",
    "seed=3 # choose\n",
    "parmObj=hm.configParms()\n",
    "parmObj.set_version(1) # 1 for PBC\n",
    "print('----------- Seed='+str(seed)+' ----------------------------')\n",
    "max_act_config,parmObj = hm.place_max_coloc_acts(parmObj,seed,fin_feeder, file_name, node_index_map, depths, substation_name,Vbase_ll, \n",
    "                                                 Sbase, load_data, headerpath, modelpath, cby_cand)\n",
    "elapsed = time.time() - t\n",
    "print('Time elapsed=',elapsed)"
   ]
  },
  {
   "cell_type": "code",
   "execution_count": null,
   "metadata": {},
   "outputs": [],
   "source": [
    "# Seed=4\n",
    "# ------ run place_max_colocated_acts, aka auto_overloadCPP process -------------\n",
    "t = time.time()\n",
    "seed=4 # choose\n",
    "parmObj=hm.configParms()\n",
    "parmObj.set_version(1) # 1 for PBC\n",
    "print('----------- Seed='+str(seed)+' ----------------------------')\n",
    "max_act_config2,parmObj2 = hm.place_max_coloc_acts(parmObj,seed,fin_feeder, file_name, node_index_map, depths, substation_name,Vbase_ll, \n",
    "                                                 Sbase, load_data, headerpath, modelpath, cby_cand)\n",
    "elapsed = time.time() - t\n",
    "print('Time elapsed=',elapsed)"
   ]
  },
  {
   "cell_type": "code",
   "execution_count": null,
   "metadata": {},
   "outputs": [],
   "source": [
    "# Seed=5\n",
    "# ------ run place_max_colocated_acts, aka auto_overloadCPP process -------------\n",
    "t = time.time()\n",
    "seed=5 # choose\n",
    "parmObj=hm.configParms()\n",
    "parmObj.set_version(1) # 1 for PBC\n",
    "print('----------- Seed='+str(seed)+' ----------------------------')\n",
    "max_act_config3,parmObj3 = hm.place_max_coloc_acts(parmObj,seed,fin_feeder, file_name, node_index_map, depths, substation_name,Vbase_ll, \n",
    "                                                 Sbase, load_data, headerpath, modelpath, cby_cand)\n",
    "elapsed = time.time() - t\n",
    "print('Time elapsed=',elapsed)"
   ]
  },
  {
   "cell_type": "code",
   "execution_count": null,
   "metadata": {},
   "outputs": [],
   "source": [
    "# Seed=6\n",
    "# ------ run place_max_colocated_acts, aka auto_overloadCPP process -------------\n",
    "t = time.time()\n",
    "seed=6 # choose\n",
    "parmObj=hm.configParms()\n",
    "parmObj.set_version(1) # 1 for PBC\n",
    "print('----------- Seed='+str(seed)+' ----------------------------')\n",
    "max_act_config4,parmObj4 = hm.place_max_coloc_acts(parmObj,seed,fin_feeder, file_name, node_index_map, depths, substation_name,Vbase_ll, \n",
    "                                                 Sbase, load_data, headerpath, modelpath, cby_cand)\n",
    "elapsed = time.time() - t\n",
    "print('Time elapsed=',elapsed)"
   ]
  },
  {
   "cell_type": "code",
   "execution_count": null,
   "metadata": {},
   "outputs": [],
   "source": [
    "# Seed=7\n",
    "# ------ run place_max_colocated_acts, aka auto_overloadCPP process -------------\n",
    "t = time.time()\n",
    "seed=7 # choose\n",
    "parmObj=hm.configParms()\n",
    "parmObj.set_version(1) # 1 for PBC\n",
    "print('----------- Seed='+str(seed)+' ----------------------------')\n",
    "max_act_config5,parmObj5 = hm.place_max_coloc_acts(parmObj,seed,fin_feeder, file_name, node_index_map, depths, substation_name,Vbase_ll, \n",
    "                                                 Sbase, load_data, headerpath, modelpath, cby_cand)\n",
    "elapsed = time.time() - t\n",
    "print('Time elapsed=',elapsed)"
   ]
  },
  {
   "cell_type": "code",
   "execution_count": null,
   "metadata": {},
   "outputs": [],
   "source": [
    "# save max_act_config into csv to be read into matlab\n",
    "with open('max_act_config_lst.csv', 'w', newline='') as csvfile:\n",
    "    writer = csv.writer(csvfile)\n",
    "    writer.writerow(max_act_config) # same header as sigbuilder\n",
    "    writer.writerow(max_act_config2) # same header as sigbuilder\n",
    "    writer.writerow(max_act_config3) # same header as sigbuilder\n",
    "    writer.writerow(max_act_config4) # same header as sigbuilder\n",
    "    writer.writerow(max_act_config5) # same header as sigbuilder"
   ]
  },
  {
   "cell_type": "code",
   "execution_count": null,
   "metadata": {},
   "outputs": [],
   "source": [
    "# arb chosen config\n",
    "parmObj=hm.configParms()\n",
    "parmObj.set_version(1) # 1 for PBC\n",
    "parmObj.set_ctrlTypes(['PBC', 'PBC', 'PBC', 'PBC'])\n",
    "\n",
    "all_act_locs = ['bus_n42','bus_n19','bus_n31','bus_n83']\n",
    "perf_nodes= ['bus_n42','bus_n19','bus_n31','bus_n83']\n",
    "feas, maxError,numfeas,bestF,indicMat=hm.eval_config(parmObj,fin_feeder, all_act_locs,perf_nodes, node_index_map,substation_name,depths,file_name,Vbase_ll, Sbase, load_data, headerpath, modelpath)"
   ]
  },
  {
   "cell_type": "code",
   "execution_count": null,
   "metadata": {},
   "outputs": [],
   "source": [
    "# manually chosen config\n",
    "parmObj=hm.configParms()\n",
    "parmObj.set_version(1) # 1 for PBC\n",
    "parmObj.set_ctrlTypes(['PBC', 'PBC', 'PBC', 'PBC'])\n",
    "\n",
    "all_act_locs = ['bus_n117','bus_n148','bus_n89','bus_n38']\n",
    "perf_nodes= ['bus_n117','bus_n148','bus_n89','bus_n38']\n",
    "feas, maxError,numfeas,bestF,indicMat=hm.eval_config(parmObj,fin_feeder, all_act_locs,perf_nodes, node_index_map,substation_name,depths,file_name,Vbase_ll, Sbase, load_data, headerpath, modelpath)"
   ]
  },
  {
   "cell_type": "code",
   "execution_count": null,
   "metadata": {},
   "outputs": [],
   "source": [
    "# # save configs+seed into .pkl\n",
    "# # # Save RHP variable 'lst_feas_configs' to .pkl file, so dont have to run again in future\n",
    "# import pickle\n",
    "# filename='max_act_config_seed3.pkl'\n",
    "# with open(filename, 'wb') as f:  # Python 3: open(..., 'wb')\n",
    "#     pickle.dump(max_act_config, f)"
   ]
  },
  {
   "cell_type": "code",
   "execution_count": 13,
   "metadata": {},
   "outputs": [
    {
     "name": "stdout",
     "output_type": "stream",
     "text": [
      "78\n",
      "5\n"
     ]
    }
   ],
   "source": [
    "# load the data 'lst_feas_configs' from .pkl file\n",
    "# import pickle\n",
    "# filename='nbhs_RHP_lstfeasconfigs.pkl'\n",
    "# with open(filename,'rb') as f:  # Python 3: open(..., 'rb')\n",
    "#     lst_feas_configs = pickle.load(f)\n",
    "     \n",
    "    \n",
    "import os\n",
    "import pickle\n",
    "scores = {} # scores is an empty dict already\n",
    "filename='max_act_config_seed3.pkl'\n",
    "print(os.path.getsize(filename))\n",
    "if os.path.getsize(filename) > 0:      \n",
    "    with open(filename, \"rb\") as f:\n",
    "        unpickler = pickle.Unpickler(f)\n",
    "        # if file is not empty scores will be equal\n",
    "        # to the value unpickled\n",
    "        max_act_config = unpickler.load()\n",
    "        \n",
    "print(len(max_act_config)) # just to see if it loaded"
   ]
  },
  {
   "cell_type": "code",
   "execution_count": 14,
   "metadata": {},
   "outputs": [],
   "source": [
    "# -------- mark the max act configs for each seed\n",
    "vis.markTwoActatorConfig(cby_cand,max_act_config,fin_feeder,file_name+'seed3')"
   ]
  },
  {
   "cell_type": "code",
   "execution_count": null,
   "metadata": {},
   "outputs": [],
   "source": []
  }
 ],
 "metadata": {
  "kernelspec": {
   "display_name": "Python 3",
   "language": "python",
   "name": "python3"
  },
  "language_info": {
   "codemirror_mode": {
    "name": "ipython",
    "version": 3
   },
   "file_extension": ".py",
   "mimetype": "text/x-python",
   "name": "python",
   "nbconvert_exporter": "python",
   "pygments_lexer": "ipython3",
   "version": "3.7.6"
  }
 },
 "nbformat": 4,
 "nbformat_minor": 4
}
