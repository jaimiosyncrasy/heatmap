{
 "cells": [
  {
   "cell_type": "code",
   "execution_count": null,
   "id": "0d0e52db",
   "metadata": {},
   "outputs": [],
   "source": [
    "%load_ext jupyternotify"
   ]
  },
  {
   "cell_type": "code",
   "execution_count": 1,
   "id": "05a6ef3b",
   "metadata": {},
   "outputs": [],
   "source": [
    "import importlib\n",
    "import numpy as np\n",
    "import math as m\n",
    "import statistics as st\n",
    "import cmath\n",
    "import matplotlib.pyplot as plt \n",
    "import itertools\n",
    "import random\n",
    "from operator import add\n",
    "from graphviz import Source, render\n",
    "import pydot\n",
    "\n",
    "import datetime\n",
    "import time\n",
    "\n",
    "import sys\n",
    "sys.path.append('py_modules') # below modules are in this folder\n",
    "#print(sys.path)\n",
    "import setup_nx # your own module, setup.nx.py\n",
    "importlib.reload(setup_nx)\n",
    "import my_feeder_funcs as ff\n",
    "import my_impedance_funcs as imp\n",
    "import my_configVis_funcs as vis\n",
    "import my_detControlMatExistence_funcs as ctrl\n",
    "import my_detLznRange_funcs as lzn\n",
    "import my_heatmapSetup_funcs as hm\n",
    "import my_process_funcs as prc # new"
   ]
  },
  {
   "cell_type": "code",
   "execution_count": 2,
   "id": "e7304d50",
   "metadata": {},
   "outputs": [
    {
     "name": "stdout",
     "output_type": "stream",
     "text": [
      "2022-06-14 15:11:12.212981\n"
     ]
    }
   ],
   "source": [
    "# [Essential] specify input feeder data for IEEE 123-node test feeder\n",
    "\n",
    "# Enter the path/name of the impedance model data (excel file)\n",
    "filepath = \"feeder_impedance_models/\"\n",
    "#modelpath = filepath + \"004_GB_IEEE123_OPAL_accur.xlsx\"\n",
    "modelpath = filepath + \"13NFunbal_impedance.xlsx\"\n",
    "\n",
    "#==========================================================================================================\n",
    "\n",
    "#file_name = string specifying name of dot file created when make_graph() is called\n",
    "file_name = '13NFunbalanced'\n",
    "#file_name = 'demo123NF.dot'\n",
    "\n",
    "# Specify substation kV, kVA bases, name, and the number of timesteps in the load data'\n",
    "Vbase_ll = 4160\n",
    "Vbase = Vbase_ll / np.sqrt(3)\n",
    "Sbase = 5000/3\n",
    "substation_name = 'bus_150'\n",
    "timesteps = 1\n",
    "\n",
    "# initialize some variables\n",
    "ts = time.time()\n",
    "print(datetime.datetime.fromtimestamp(ts))\n",
    "plot = 0 #turn plot on/off\n",
    "depths = {}\n",
    "leaves = []"
   ]
  },
  {
   "cell_type": "code",
   "execution_count": 3,
   "id": "a713d443",
   "metadata": {},
   "outputs": [
    {
     "name": "stdout",
     "output_type": "stream",
     "text": [
      "Finished initializing feeder\n",
      "n= 12\n",
      "First ten nodes are:\n",
      "bus_611\n",
      "bus_632\n",
      "bus_633\n",
      "bus_634\n",
      "bus_645\n",
      "bus_646\n",
      "bus_650\n",
      "bus_651\n",
      "bus_652\n",
      "bus_671\n"
     ]
    }
   ],
   "source": [
    "# [ESSENTIAL] create feeder object\n",
    "\n",
    "fin_feeder = ff.feeder_init(modelpath,'','',timesteps,Vbase_ll,Sbase,depths,leaves)\n",
    "print(\"Finished initializing feeder\")\n",
    "ff.make_graph(fin_feeder, file_name)\n",
    "node_index_map = hm.createNodeIndexMap(fin_feeder) #node indices for indicMat and F matrix\n",
    "R,X=hm.createRXmatrices_3ph(fin_feeder, depths,file_name)\n",
    "\n",
    "#print('depths=',depths) # check this is populated, lists how far each node is from substation\n",
    "#print('depths length=',len(depths))\n",
    "\n",
    "# print list of first 10 buses in network\n",
    "print(\"First ten nodes are:\")\n",
    "count = 0 \n",
    "for i in fin_feeder.network:    \n",
    "    print(i) \n",
    "    count += 1\n",
    "    if count >= 10:\n",
    "        break\n",
    "    \n",
    "import csv  # jaimie do you need this?\n",
    "graph = fin_feeder.network"
   ]
  },
  {
   "cell_type": "raw",
   "id": "ee9fd011",
   "metadata": {},
   "source": []
  },
  {
   "cell_type": "code",
   "execution_count": 4,
   "id": "ade8a348",
   "metadata": {},
   "outputs": [
    {
     "name": "stdout",
     "output_type": "stream",
     "text": [
      "zzelf= [[(0.34+0.85j), (0.26+0.79j), (0.41+0.94j)]]\n",
      "abs_z= [[0.91547802 0.83168504 1.02552426]]\n",
      "zzelf= [[(0.13+0.39j), (0.13+0.4j), (0.13+0.39j)]]\n",
      "abs_z= [[0.4110961  0.42059482 0.4110961 ]]\n",
      "zzelf= [[(0.2+0.5j), (0.2+0.51j), (0.2+0.51j)]]\n",
      "abs_z= [[0.53851648 0.54781384 0.54781384]]\n",
      "zzelf= [[(0.2+0.5j), (0.2+0.51j), (0.2+0.51j)]]\n",
      "abs_z= [[0.53851648 0.54781384 0.54781384]]\n",
      "zzelf= [[(0.13+0.39j), (0.25+0.53j), (0.26+0.52j)]]\n",
      "abs_z= [[0.4110961  0.58600341 0.58137767]]\n",
      "zzelf= [[(0.13+0.39j), (0.33+0.6j), (0.33+0.6j)]]\n",
      "abs_z= [[0.4110961  0.68476273 0.68476273]]\n",
      "zzelf= [[(0.54+0.93j), (0.26+0.79j), (0.33+0.86j)]]\n",
      "abs_z= [[1.0754069  0.83168504 0.9211406 ]]\n",
      "zzelf= [[(0.26+0.77j), (0.26+0.79j), (0.26+0.78j)]]\n",
      "abs_z= [[0.81271151 0.83168504 0.82219219]]\n",
      "zzelf= [[(0.34+0.81j), (0.33+0.83j), (0.33+0.83j)]]\n",
      "abs_z= [[0.87846457 0.89319651 0.89319651]]\n",
      "zzelf= [[(0.33+0.96j), (0.32+0.99j), (0.32+0.98j)]]\n",
      "abs_z= [[1.01513546 1.0404326  1.03092192]]\n",
      "zzelf= [[(0.34+0.85j), (0.26+0.79j), (0.33+0.86j)]]\n",
      "abs_z= [[0.91547802 0.83168504 0.9211406 ]]\n",
      "zzelf= [[(0.26+0.77j), (0.26+0.79j), (0.26+0.78j)]]\n",
      "abs_z= [[0.81271151 0.83168504 0.82219219]]\n",
      "[[0.91547802 0.83168504 1.02552426]\n",
      " [0.4110961  0.42059482 0.4110961 ]\n",
      " [0.53851648 0.54781384 0.54781384]\n",
      " [0.53851648 0.54781384 0.54781384]\n",
      " [0.4110961  0.58600341 0.58137767]\n",
      " [0.4110961  0.68476273 0.68476273]\n",
      " [1.0754069  0.83168504 0.9211406 ]\n",
      " [0.81271151 0.83168504 0.82219219]\n",
      " [0.87846457 0.89319651 0.89319651]\n",
      " [1.01513546 1.0404326  1.03092192]\n",
      " [0.91547802 0.83168504 0.9211406 ]\n",
      " [0.81271151 0.83168504 0.82219219]]\n"
     ]
    }
   ],
   "source": [
    "# print z_to_sub for all buses to a csv\n",
    "graphNodes_nosub = hm.remove_subst_nodes(fin_feeder, file_name) # dont consider substation nodes, node 650 and 651 for 13NF\n",
    "\n",
    "myabsZs=np.array([], dtype=np.int64).reshape(0,3)\n",
    "\n",
    "for busName in graphNodes_nosub: # for all non-slack buses\n",
    "    z2sub=np.around(imp.get_total_impedance_from_substation(fin_feeder, busName,depths),2)\n",
    "    zself=[[z2sub[0][0], z2sub[1][1], z2sub[2][2]]]\n",
    "    print('zzelf=',zself)\n",
    "    abs_z=np.absolute(zself)\n",
    "    print('abs_z=',abs_z)\n",
    "    myabsZs=np.append(myabsZs,np.array(abs_z),axis=0) \n",
    "\n",
    "print(myabsZs)\n",
    "#print(np.array(myabsZs))\n",
    "np.savetxt('z2sub2_13NFunbal.csv', np.array(myabsZs), delimiter=',')"
   ]
  },
  {
   "cell_type": "code",
   "execution_count": 5,
   "id": "8f5c085c",
   "metadata": {},
   "outputs": [],
   "source": [
    "# write busnames into a csv\n",
    "import csv\n",
    "graphNodes_noSub=hm.remove_subst_nodes(fin_feeder, file_name) # remove substation nodes, busList will have as many entries as R and X matrix length\n",
    "assert(len(graphNodes_noSub)*3==len(R)) # *3 is because R is 3ph\n",
    "with open(\"13NFunbal_busList.csv\", 'w', newline='') as csvfile:\n",
    "    spamwriter = csv.writer(csvfile, delimiter='-',\n",
    "                            quotechar='|', quoting=csv.QUOTE_MINIMAL)\n",
    "    spamwriter.writerows(graphNodes_noSub)"
   ]
  },
  {
   "cell_type": "code",
   "execution_count": 6,
   "id": "46280004",
   "metadata": {},
   "outputs": [],
   "source": [
    "# Save R and X matrices to csv to import into matlab\n",
    "# np.savetxt reference: https://thispointer.com/how-to-save-numpy-array-to-a-csv-file-using-numpy-savetxt-in-python/\n",
    "np.savetxt('Rmat_13NFunbal_accur.csv', R, delimiter=',')\n",
    "np.savetxt('Xmat_13NFunbal_accur.csv', X, delimiter=',')"
   ]
  },
  {
   "cell_type": "code",
   "execution_count": null,
   "id": "fa163ec5",
   "metadata": {},
   "outputs": [],
   "source": []
  }
 ],
 "metadata": {
  "kernelspec": {
   "display_name": "Python 3",
   "language": "python",
   "name": "python3"
  },
  "language_info": {
   "codemirror_mode": {
    "name": "ipython",
    "version": 3
   },
   "file_extension": ".py",
   "mimetype": "text/x-python",
   "name": "python",
   "nbconvert_exporter": "python",
   "pygments_lexer": "ipython3",
   "version": "3.7.6"
  }
 },
 "nbformat": 4,
 "nbformat_minor": 5
}
